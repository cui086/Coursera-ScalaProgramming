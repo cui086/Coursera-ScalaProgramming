{
 "cells": [
  {
   "cell_type": "markdown",
   "metadata": {
    "button": false,
    "new_sheet": false,
    "run_control": {
     "read_only": false
    }
   },
   "source": [
    "<a href=\"https://cognitiveclass.ai\"><img src = \"https://s3-api.us-geo.objectstorage.softlayer.net/cf-courses-data/CognitiveClass/Logos/organization_logo/organization_logo.png\" width = 400> </a>\n"
   ]
  },
  {
   "cell_type": "markdown",
   "metadata": {},
   "source": [
    "This notebook is designed to run in a IBM Watson Studio default runtime (NOT the Watson Studio Apache Spark Runtime as the default runtime with 1 vCPU is free of charge). Therefore, we install Apache Spark in local mode for test purposes only. Please don't use it in production.\n",
    "\n",
    "In case you are facing issues, please read the following two documents first:\n",
    "\n",
    "<https://github.com/IBM/skillsnetwork/wiki/Environment-Setup>\n",
    "\n",
    "<https://github.com/IBM/skillsnetwork/wiki/FAQ>\n",
    "\n",
    "Then, please feel free to ask:\n",
    "\n",
    "[https://coursera.org/learn/machine-learning-big-data-apache-spark/discussions/all](https://coursera.org/learn/machine-learning-big-data-apache-spark/discussions/all?cm_mmc=Email_Newsletter-_-Developer_Ed%2BTech-_-WW_WW-_-SkillsNetwork-Courses-IBMDeveloperSkillsNetwork-ML0201EN-SkillsNetwork-20647446&cm_mmca1=000026UJ&cm_mmca2=10006555&cm_mmca3=M12345678&cvosrc=email.Newsletter.M12345678&cvo_campaign=000026UJ)\n",
    "\n",
    "Please make sure to follow the guidelines before asking a question:\n",
    "\n",
    "<https://github.com/IBM/skillsnetwork/wiki/FAQ#im-feeling-lost-and-confused-please-help-me>\n",
    "\n",
    "If running outside Watson Studio, this should work as well. In case you are running in an Apache Spark context outside Watson Studio, please remove the Apache Spark setup in the first notebook cells.\n"
   ]
  },
  {
   "cell_type": "code",
   "execution_count": 1,
   "metadata": {},
   "outputs": [],
   "source": [
    "from pyspark import SparkContext, SparkConf\n",
    "from pyspark.sql import SparkSession\n"
   ]
  },
  {
   "cell_type": "code",
   "execution_count": 2,
   "metadata": {},
   "outputs": [],
   "source": [
    "sc = SparkContext.getOrCreate(SparkConf().setMaster(\"local[*]\"))\n",
    "\n",
    "spark = SparkSession \\\n",
    "    .builder \\\n",
    "    .getOrCreate()"
   ]
  },
  {
   "cell_type": "markdown",
   "metadata": {
    "collapsed": true
   },
   "source": [
    "Welcome to exercise one of week two of “Apache Spark for Scalable Machine Learning on BigData”. In this exercise you’ll read a DataFrame in order to perform a simple statistical analysis. Then you’ll rebalance the dataset. No worries, we’ll explain everything to you, let’s get started.\n",
    "\n",
    "Let’s create a data frame from a remote file by downloading it:\n"
   ]
  },
  {
   "cell_type": "code",
   "execution_count": 3,
   "metadata": {},
   "outputs": [],
   "source": [
    "df = spark.read.parquet('hmp.parquet')\n",
    "\n",
    "# register a corresponding query table\n",
    "df.createOrReplaceTempView('df')"
   ]
  },
  {
   "cell_type": "markdown",
   "metadata": {},
   "source": [
    "Let’s have a look at the data set first. This dataset contains sensor recordings from different movement activities as we will see in the next week’s lectures. X, Y and Z contain accelerometer sensor values whereas the class field contains information about which movement has been recorded. The source field is optional and can be used for data lineage since it contains the file name of the original file where the particular row was imported from.\n",
    "\n",
    "More details on the data set can be found here:\n",
    "<https://github.com/wchill/HMP_Dataset>\n"
   ]
  },
  {
   "cell_type": "code",
   "execution_count": 4,
   "metadata": {},
   "outputs": [
    {
     "name": "stdout",
     "output_type": "stream",
     "text": [
      "+---+---+---+--------------------+-----------+\n",
      "|  x|  y|  z|              source|      class|\n",
      "+---+---+---+--------------------+-----------+\n",
      "| 22| 49| 35|Accelerometer-201...|Brush_teeth|\n",
      "| 22| 49| 35|Accelerometer-201...|Brush_teeth|\n",
      "| 22| 52| 35|Accelerometer-201...|Brush_teeth|\n",
      "| 22| 52| 35|Accelerometer-201...|Brush_teeth|\n",
      "| 21| 52| 34|Accelerometer-201...|Brush_teeth|\n",
      "| 22| 51| 34|Accelerometer-201...|Brush_teeth|\n",
      "| 20| 50| 35|Accelerometer-201...|Brush_teeth|\n",
      "| 22| 52| 34|Accelerometer-201...|Brush_teeth|\n",
      "| 22| 50| 34|Accelerometer-201...|Brush_teeth|\n",
      "| 22| 51| 35|Accelerometer-201...|Brush_teeth|\n",
      "| 21| 51| 33|Accelerometer-201...|Brush_teeth|\n",
      "| 20| 50| 34|Accelerometer-201...|Brush_teeth|\n",
      "| 21| 49| 33|Accelerometer-201...|Brush_teeth|\n",
      "| 21| 49| 33|Accelerometer-201...|Brush_teeth|\n",
      "| 20| 51| 35|Accelerometer-201...|Brush_teeth|\n",
      "| 18| 49| 34|Accelerometer-201...|Brush_teeth|\n",
      "| 19| 48| 34|Accelerometer-201...|Brush_teeth|\n",
      "| 16| 53| 34|Accelerometer-201...|Brush_teeth|\n",
      "| 18| 52| 35|Accelerometer-201...|Brush_teeth|\n",
      "| 18| 51| 32|Accelerometer-201...|Brush_teeth|\n",
      "+---+---+---+--------------------+-----------+\n",
      "only showing top 20 rows\n",
      "\n",
      "root\n",
      " |-- x: integer (nullable = true)\n",
      " |-- y: integer (nullable = true)\n",
      " |-- z: integer (nullable = true)\n",
      " |-- source: string (nullable = true)\n",
      " |-- class: string (nullable = true)\n",
      "\n"
     ]
    }
   ],
   "source": [
    "df.show()\n",
    "df.printSchema()"
   ]
  },
  {
   "cell_type": "markdown",
   "metadata": {},
   "source": [
    "This is a classical classification data set. One thing we always do during data analysis is checking if the classes are balanced. In other words, if there are more or less the same number of example in each class. Let’s find out by a simple aggregation using SQL.\n"
   ]
  },
  {
   "cell_type": "code",
   "execution_count": 5,
   "metadata": {},
   "outputs": [
    {
     "name": "stdout",
     "output_type": "stream",
     "text": [
      "+--------------+--------+\n",
      "|         class|count(1)|\n",
      "+--------------+--------+\n",
      "| Use_telephone|   15225|\n",
      "| Standup_chair|   25417|\n",
      "|      Eat_meat|   31236|\n",
      "|     Getup_bed|   45801|\n",
      "|   Drink_glass|   42792|\n",
      "|    Pour_water|   41673|\n",
      "|     Comb_hair|   23504|\n",
      "|          Walk|   92254|\n",
      "|  Climb_stairs|   40258|\n",
      "| Sitdown_chair|   25036|\n",
      "|   Liedown_bed|   11446|\n",
      "|Descend_stairs|   15375|\n",
      "|   Brush_teeth|   29829|\n",
      "|      Eat_soup|    6683|\n",
      "+--------------+--------+\n",
      "\n"
     ]
    }
   ],
   "source": [
    "spark.sql('select class,count(*) from df group by class').show()"
   ]
  },
  {
   "cell_type": "markdown",
   "metadata": {},
   "source": [
    "As you can see there is quite an imbalance between classes. Before we dig into this, let’s re-write the same query using the DataFrame API – just in case you are not familiar with SQL. As we’ve learned before, it doesn’t matter if you express your queries with SQL or the DataFrame API – it all gets boiled down into the same execution plan optimized by Tungsten and accelerated by Catalyst. You can even mix and match SQL and DataFrame API code if you like.\n",
    "\n",
    "Again, more details on the API can be found here:\n",
    "[https://spark.apache.org/docs/latest/api/python/pyspark.sql.html#pyspark.sql.DataFrame](https://spark.apache.org/docs/latest/api/python/pyspark.sql.html#pyspark.sql.DataFrame?cm_mmc=Email_Newsletter-_-Developer_Ed%2BTech-_-WW_WW-_-SkillsNetwork-Courses-IBMDeveloperSkillsNetwork-ML0201EN-SkillsNetwork-20647446&cm_mmca1=000026UJ&cm_mmca2=10006555&cm_mmca3=M12345678&cvosrc=email.Newsletter.M12345678&cvo_campaign=000026UJ&cm_mmc=Email_Newsletter-_-Developer_Ed%2BTech-_-WW_WW-_-SkillsNetwork-Courses-IBMDeveloperSkillsNetwork-ML0201EN-SkillsNetwork-20647446&cm_mmca1=000026UJ&cm_mmca2=10006555&cm_mmca3=M12345678&cvosrc=email.Newsletter.M12345678&cvo_campaign=000026UJ)\n"
   ]
  },
  {
   "cell_type": "code",
   "execution_count": 6,
   "metadata": {},
   "outputs": [
    {
     "name": "stdout",
     "output_type": "stream",
     "text": [
      "+--------------+-----+\n",
      "|         class|count|\n",
      "+--------------+-----+\n",
      "| Use_telephone|15225|\n",
      "| Standup_chair|25417|\n",
      "|      Eat_meat|31236|\n",
      "|     Getup_bed|45801|\n",
      "|   Drink_glass|42792|\n",
      "|    Pour_water|41673|\n",
      "|     Comb_hair|23504|\n",
      "|          Walk|92254|\n",
      "|  Climb_stairs|40258|\n",
      "| Sitdown_chair|25036|\n",
      "|   Liedown_bed|11446|\n",
      "|Descend_stairs|15375|\n",
      "|   Brush_teeth|29829|\n",
      "|      Eat_soup| 6683|\n",
      "+--------------+-----+\n",
      "\n"
     ]
    }
   ],
   "source": [
    "df.groupBy('class').count().show()"
   ]
  },
  {
   "cell_type": "markdown",
   "metadata": {},
   "source": [
    "Let’s create a bar plot from this data. We’re using the pixidust library, which is Open Source, because of its simplicity. But any other library like matplotlib is fine as well. \n"
   ]
  },
  {
   "cell_type": "code",
   "execution_count": 7,
   "metadata": {
    "pixiedust": {
     "displayParams": {
      "handlerId": "barChart",
      "keyFields": "class",
      "legend": "true",
      "mpld3": "false",
      "orientation": "horizontal",
      "rendererId": "matplotlib",
      "sortby": "Values ASC",
      "valueFields": "count"
     }
    }
   },
   "outputs": [
    {
     "data": {
      "text/html": [
       "<div class=\"pixiedust\" pixiedust=\"{&quot;prefix&quot;: &quot;c9fc6944&quot;, &quot;command&quot;: &quot;display(counts,cell_id=&apos;fbac8f426e9f4f5886eb323bf1127193&apos;,nostore_pixiedust=&apos;true&apos;,handlerId=&apos;barChart&apos;,keyFields=&apos;class&apos;,legend=&apos;true&apos;,mpld3=&apos;false&apos;,orientation=&apos;horizontal&apos;,rendererId=&apos;matplotlib&apos;,sortby=&apos;Values ASC&apos;,valueFields=&apos;count&apos;,nostore_cw=&apos;1098&apos;,nostore_vh=&apos;912&apos;,org_params=&apos;nostore_pixiedust&apos;,nostore_bokeh=&apos;false&apos;)&quot;, &quot;entity&quot;: &quot;counts&quot;, &quot;options&quot;: {&quot;cell_id&quot;: &quot;fbac8f426e9f4f5886eb323bf1127193&quot;, &quot;nostore_pixiedust&quot;: &quot;true&quot;, &quot;handlerId&quot;: &quot;barChart&quot;, &quot;keyFields&quot;: &quot;class&quot;, &quot;legend&quot;: &quot;true&quot;, &quot;mpld3&quot;: &quot;false&quot;, &quot;orientation&quot;: &quot;horizontal&quot;, &quot;rendererId&quot;: &quot;matplotlib&quot;, &quot;sortby&quot;: &quot;Values ASC&quot;, &quot;valueFields&quot;: &quot;count&quot;, &quot;nostore_cw&quot;: &quot;1098&quot;, &quot;nostore_vh&quot;: &quot;912&quot;, &quot;org_params&quot;: &quot;nostore_pixiedust&quot;, &quot;nostore_bokeh&quot;: &quot;false&quot;}, &quot;sniffers&quot;: [&quot;{&apos;nostore_bokeh&apos;:!!window.Bokeh}&quot;], &quot;avoidMetadata&quot;: false, &quot;include_keys&quot;: [&quot;filter&quot;]}\">\n",
       "  \n",
       "  <button class=\"btn btn-default btn-sm expandButton\" data-toggle=\"collapse\"\n",
       "          data-target=\"#pixiedust-output-wrapper-c9fc6944\" title=\"Expand/Collapse Pixiedust output\">\n",
       "    <i class=\"fa\"></i>\n",
       "  </button>\n",
       "  \n",
       "  \n",
       "  <div id=\"pixiedust-output-wrapper-c9fc6944\" class=\"pixiedust-output-wrapper collapse in\">\n",
       "    \n",
       "      <div class=\"pixiedust-toolbar btn-group\" role=\"group\" style=\"margin-bottom:15px\">  \n",
       "      \n",
       "        \n",
       "          <a class=\"btn btn-small btn-default display-type-button\" id=\"menuc9fc6944-tableView\" title=\"Table.Next\">\n",
       "            <i class=\"fa fa-table\"></i>\n",
       "          </a>\n",
       "          \n",
       "            <script>\n",
       "                $('#menuc9fc6944-tableView').on('click', \n",
       "            \n",
       "            function(){\n",
       "                pixiedust.executeDisplay(\n",
       "                    {\"prefix\": \"c9fc6944\", \"command\": \"display(counts,cell_id='fbac8f426e9f4f5886eb323bf1127193',nostore_pixiedust='true',handlerId='tableView',keyFields='class',legend='true',mpld3='false',orientation='horizontal',rendererId='matplotlib',sortby='Values ASC',valueFields='count',nostore_cw='1098',nostore_vh='912',org_params='nostore_pixiedust',nostore_bokeh='false',prefix='c9fc6944')\", \"entity\": \"counts\", \"options\": {\"cell_id\": \"fbac8f426e9f4f5886eb323bf1127193\", \"nostore_pixiedust\": \"true\", \"handlerId\": \"tableView\", \"keyFields\": \"class\", \"legend\": \"true\", \"mpld3\": \"false\", \"orientation\": \"horizontal\", \"rendererId\": \"matplotlib\", \"sortby\": \"Values ASC\", \"valueFields\": \"count\", \"nostore_cw\": \"1098\", \"nostore_vh\": \"912\", \"org_params\": \"nostore_pixiedust\", \"nostore_bokeh\": \"false\", \"prefix\": \"c9fc6944\"}, \"sniffers\": [\"{'nostore_bokeh':!!window.Bokeh}\"], \"avoidMetadata\": true, \"include_keys\": [\"filter\"]},\n",
       "                    {'targetDivId': 'wrapperHTMLc9fc6944' }\n",
       "                );\n",
       "            }\n",
       "            )\n",
       "            </script>\n",
       "        \n",
       "        \n",
       "      \n",
       "        \n",
       "          <div class=\"btn-group btn-small display-type-button\">\n",
       "            \n",
       "            <a class=\"btn btn-small dropdown-toggle btn-default\" data-toggle=\"dropdown\" title=\"Chart\">\n",
       "              \n",
       "              <i class=\"fa fa-line-chart\"></i>\n",
       "              \n",
       "              <i class=\"fa fa-chevron-down\"></i>\n",
       "            </a>\n",
       "            <div class=\"dropdown-menu\" role=\"menu\" style=\"white-space:nowrap\">\n",
       "              <ul>\n",
       "              \n",
       "                <li id=\"menuc9fc6944-barChart\">\n",
       "                  \n",
       "                  <i class=\"fa fa-bar-chart\"></i>\n",
       "                  \n",
       "                  <span>Bar Chart</span>\n",
       "                  \n",
       "            <script>\n",
       "                $('#menuc9fc6944-barChart').on('click', \n",
       "            \n",
       "            function(){\n",
       "                pixiedust.executeDisplay(\n",
       "                    {\"prefix\": \"c9fc6944\", \"command\": \"display(counts,cell_id='fbac8f426e9f4f5886eb323bf1127193',nostore_pixiedust='true',handlerId='barChart',keyFields='class',legend='true',mpld3='false',orientation='horizontal',rendererId='matplotlib',sortby='Values ASC',valueFields='count',nostore_cw='1098',nostore_vh='912',org_params='nostore_pixiedust',nostore_bokeh='false',prefix='c9fc6944')\", \"entity\": \"counts\", \"options\": {\"cell_id\": \"fbac8f426e9f4f5886eb323bf1127193\", \"nostore_pixiedust\": \"true\", \"handlerId\": \"barChart\", \"keyFields\": \"class\", \"legend\": \"true\", \"mpld3\": \"false\", \"orientation\": \"horizontal\", \"rendererId\": \"matplotlib\", \"sortby\": \"Values ASC\", \"valueFields\": \"count\", \"nostore_cw\": \"1098\", \"nostore_vh\": \"912\", \"org_params\": \"nostore_pixiedust\", \"nostore_bokeh\": \"false\", \"prefix\": \"c9fc6944\"}, \"sniffers\": [\"{'nostore_bokeh':!!window.Bokeh}\"], \"avoidMetadata\": true, \"include_keys\": [\"filter\"]},\n",
       "                    {'targetDivId': 'wrapperHTMLc9fc6944' }\n",
       "                );\n",
       "            }\n",
       "            )\n",
       "            </script>\n",
       "        \n",
       "                </li>\n",
       "              \n",
       "                <li id=\"menuc9fc6944-lineChart\">\n",
       "                  \n",
       "                  <i class=\"fa fa-line-chart\"></i>\n",
       "                  \n",
       "                  <span>Line Chart</span>\n",
       "                  \n",
       "            <script>\n",
       "                $('#menuc9fc6944-lineChart').on('click', \n",
       "            \n",
       "            function(){\n",
       "                pixiedust.executeDisplay(\n",
       "                    {\"prefix\": \"c9fc6944\", \"command\": \"display(counts,cell_id='fbac8f426e9f4f5886eb323bf1127193',nostore_pixiedust='true',handlerId='lineChart',keyFields='class',legend='true',mpld3='false',orientation='horizontal',rendererId='matplotlib',sortby='Values ASC',valueFields='count',nostore_cw='1098',nostore_vh='912',org_params='nostore_pixiedust',nostore_bokeh='false',prefix='c9fc6944')\", \"entity\": \"counts\", \"options\": {\"cell_id\": \"fbac8f426e9f4f5886eb323bf1127193\", \"nostore_pixiedust\": \"true\", \"handlerId\": \"lineChart\", \"keyFields\": \"class\", \"legend\": \"true\", \"mpld3\": \"false\", \"orientation\": \"horizontal\", \"rendererId\": \"matplotlib\", \"sortby\": \"Values ASC\", \"valueFields\": \"count\", \"nostore_cw\": \"1098\", \"nostore_vh\": \"912\", \"org_params\": \"nostore_pixiedust\", \"nostore_bokeh\": \"false\", \"prefix\": \"c9fc6944\"}, \"sniffers\": [\"{'nostore_bokeh':!!window.Bokeh}\"], \"avoidMetadata\": true, \"include_keys\": [\"filter\"]},\n",
       "                    {'targetDivId': 'wrapperHTMLc9fc6944' }\n",
       "                );\n",
       "            }\n",
       "            )\n",
       "            </script>\n",
       "        \n",
       "                </li>\n",
       "              \n",
       "                <li id=\"menuc9fc6944-scatterPlot\">\n",
       "                  \n",
       "                  <i class=\"fa fa-circle\"></i>\n",
       "                  \n",
       "                  <span>Scatter Plot</span>\n",
       "                  \n",
       "            <script>\n",
       "                $('#menuc9fc6944-scatterPlot').on('click', \n",
       "            \n",
       "            function(){\n",
       "                pixiedust.executeDisplay(\n",
       "                    {\"prefix\": \"c9fc6944\", \"command\": \"display(counts,cell_id='fbac8f426e9f4f5886eb323bf1127193',nostore_pixiedust='true',handlerId='scatterPlot',keyFields='class',legend='true',mpld3='false',orientation='horizontal',rendererId='matplotlib',sortby='Values ASC',valueFields='count',nostore_cw='1098',nostore_vh='912',org_params='nostore_pixiedust',nostore_bokeh='false',prefix='c9fc6944')\", \"entity\": \"counts\", \"options\": {\"cell_id\": \"fbac8f426e9f4f5886eb323bf1127193\", \"nostore_pixiedust\": \"true\", \"handlerId\": \"scatterPlot\", \"keyFields\": \"class\", \"legend\": \"true\", \"mpld3\": \"false\", \"orientation\": \"horizontal\", \"rendererId\": \"matplotlib\", \"sortby\": \"Values ASC\", \"valueFields\": \"count\", \"nostore_cw\": \"1098\", \"nostore_vh\": \"912\", \"org_params\": \"nostore_pixiedust\", \"nostore_bokeh\": \"false\", \"prefix\": \"c9fc6944\"}, \"sniffers\": [\"{'nostore_bokeh':!!window.Bokeh}\"], \"avoidMetadata\": true, \"include_keys\": [\"filter\"]},\n",
       "                    {'targetDivId': 'wrapperHTMLc9fc6944' }\n",
       "                );\n",
       "            }\n",
       "            )\n",
       "            </script>\n",
       "        \n",
       "                </li>\n",
       "              \n",
       "                <li id=\"menuc9fc6944-pieChart\">\n",
       "                  \n",
       "                  <i class=\"fa fa-pie-chart\"></i>\n",
       "                  \n",
       "                  <span>Pie Chart</span>\n",
       "                  \n",
       "            <script>\n",
       "                $('#menuc9fc6944-pieChart').on('click', \n",
       "            \n",
       "            function(){\n",
       "                pixiedust.executeDisplay(\n",
       "                    {\"prefix\": \"c9fc6944\", \"command\": \"display(counts,cell_id='fbac8f426e9f4f5886eb323bf1127193',nostore_pixiedust='true',handlerId='pieChart',keyFields='class',legend='true',mpld3='false',orientation='horizontal',rendererId='matplotlib',sortby='Values ASC',valueFields='count',nostore_cw='1098',nostore_vh='912',org_params='nostore_pixiedust',nostore_bokeh='false',prefix='c9fc6944')\", \"entity\": \"counts\", \"options\": {\"cell_id\": \"fbac8f426e9f4f5886eb323bf1127193\", \"nostore_pixiedust\": \"true\", \"handlerId\": \"pieChart\", \"keyFields\": \"class\", \"legend\": \"true\", \"mpld3\": \"false\", \"orientation\": \"horizontal\", \"rendererId\": \"matplotlib\", \"sortby\": \"Values ASC\", \"valueFields\": \"count\", \"nostore_cw\": \"1098\", \"nostore_vh\": \"912\", \"org_params\": \"nostore_pixiedust\", \"nostore_bokeh\": \"false\", \"prefix\": \"c9fc6944\"}, \"sniffers\": [\"{'nostore_bokeh':!!window.Bokeh}\"], \"avoidMetadata\": true, \"include_keys\": [\"filter\"]},\n",
       "                    {'targetDivId': 'wrapperHTMLc9fc6944' }\n",
       "                );\n",
       "            }\n",
       "            )\n",
       "            </script>\n",
       "        \n",
       "                </li>\n",
       "              \n",
       "                <li id=\"menuc9fc6944-mapView\">\n",
       "                  \n",
       "                  <i class=\"fa fa-globe\"></i>\n",
       "                  \n",
       "                  <span>Map</span>\n",
       "                  \n",
       "            <script>\n",
       "                $('#menuc9fc6944-mapView').on('click', \n",
       "            \n",
       "            function(){\n",
       "                pixiedust.executeDisplay(\n",
       "                    {\"prefix\": \"c9fc6944\", \"command\": \"display(counts,cell_id='fbac8f426e9f4f5886eb323bf1127193',nostore_pixiedust='true',handlerId='mapView',keyFields='class',legend='true',mpld3='false',orientation='horizontal',rendererId='matplotlib',sortby='Values ASC',valueFields='count',nostore_cw='1098',nostore_vh='912',org_params='nostore_pixiedust',nostore_bokeh='false',prefix='c9fc6944')\", \"entity\": \"counts\", \"options\": {\"cell_id\": \"fbac8f426e9f4f5886eb323bf1127193\", \"nostore_pixiedust\": \"true\", \"handlerId\": \"mapView\", \"keyFields\": \"class\", \"legend\": \"true\", \"mpld3\": \"false\", \"orientation\": \"horizontal\", \"rendererId\": \"matplotlib\", \"sortby\": \"Values ASC\", \"valueFields\": \"count\", \"nostore_cw\": \"1098\", \"nostore_vh\": \"912\", \"org_params\": \"nostore_pixiedust\", \"nostore_bokeh\": \"false\", \"prefix\": \"c9fc6944\"}, \"sniffers\": [\"{'nostore_bokeh':!!window.Bokeh}\"], \"avoidMetadata\": true, \"include_keys\": [\"filter\"]},\n",
       "                    {'targetDivId': 'wrapperHTMLc9fc6944' }\n",
       "                );\n",
       "            }\n",
       "            )\n",
       "            </script>\n",
       "        \n",
       "                </li>\n",
       "              \n",
       "                <li id=\"menuc9fc6944-histogram\">\n",
       "                  \n",
       "                  <i class=\"fa fa-area-chart\"></i>\n",
       "                  \n",
       "                  <span>Histogram</span>\n",
       "                  \n",
       "            <script>\n",
       "                $('#menuc9fc6944-histogram').on('click', \n",
       "            \n",
       "            function(){\n",
       "                pixiedust.executeDisplay(\n",
       "                    {\"prefix\": \"c9fc6944\", \"command\": \"display(counts,cell_id='fbac8f426e9f4f5886eb323bf1127193',nostore_pixiedust='true',handlerId='histogram',keyFields='class',legend='true',mpld3='false',orientation='horizontal',rendererId='matplotlib',sortby='Values ASC',valueFields='count',nostore_cw='1098',nostore_vh='912',org_params='nostore_pixiedust',nostore_bokeh='false',prefix='c9fc6944')\", \"entity\": \"counts\", \"options\": {\"cell_id\": \"fbac8f426e9f4f5886eb323bf1127193\", \"nostore_pixiedust\": \"true\", \"handlerId\": \"histogram\", \"keyFields\": \"class\", \"legend\": \"true\", \"mpld3\": \"false\", \"orientation\": \"horizontal\", \"rendererId\": \"matplotlib\", \"sortby\": \"Values ASC\", \"valueFields\": \"count\", \"nostore_cw\": \"1098\", \"nostore_vh\": \"912\", \"org_params\": \"nostore_pixiedust\", \"nostore_bokeh\": \"false\", \"prefix\": \"c9fc6944\"}, \"sniffers\": [\"{'nostore_bokeh':!!window.Bokeh}\"], \"avoidMetadata\": true, \"include_keys\": [\"filter\"]},\n",
       "                    {'targetDivId': 'wrapperHTMLc9fc6944' }\n",
       "                );\n",
       "            }\n",
       "            )\n",
       "            </script>\n",
       "        \n",
       "                </li>\n",
       "              \n",
       "              </ul>\n",
       "            </div>\n",
       "          </div>\n",
       "        \n",
       "      \n",
       "        \n",
       "      \n",
       "        \n",
       "      \n",
       "        \n",
       "          <div class=\"btn-group btn-small display-type-button\">\n",
       "            \n",
       "            <a class=\"btn btn-small dropdown-toggle btn-default\" data-toggle=\"dropdown\" title=\"Stash dataset\">\n",
       "              \n",
       "              <i class=\"fa fa-cloud-download\"></i>\n",
       "              \n",
       "              <i class=\"fa fa-chevron-down\"></i>\n",
       "            </a>\n",
       "            <div class=\"dropdown-menu\" role=\"menu\" style=\"white-space:nowrap\">\n",
       "              <ul>\n",
       "              \n",
       "                <li id=\"menuc9fc6944-downloadFile\">\n",
       "                  \n",
       "                  <i class=\"fa fa-download\"></i>\n",
       "                  \n",
       "                  <span>Download as File</span>\n",
       "                  \n",
       "            <script>\n",
       "                $('#menuc9fc6944-downloadFile').on('click', \n",
       "            \n",
       "            function(){\n",
       "                pixiedust.executeDisplay(\n",
       "                    {\"prefix\": \"c9fc6944\", \"command\": \"display(counts,cell_id='fbac8f426e9f4f5886eb323bf1127193',nostore_pixiedust='true',handlerId='downloadFile',keyFields='class',legend='true',mpld3='false',orientation='horizontal',rendererId='matplotlib',sortby='Values ASC',valueFields='count',nostore_cw='1098',nostore_vh='912',org_params='nostore_pixiedust',nostore_bokeh='false',prefix='c9fc6944')\", \"entity\": \"counts\", \"options\": {\"cell_id\": \"fbac8f426e9f4f5886eb323bf1127193\", \"nostore_pixiedust\": \"true\", \"handlerId\": \"downloadFile\", \"keyFields\": \"class\", \"legend\": \"true\", \"mpld3\": \"false\", \"orientation\": \"horizontal\", \"rendererId\": \"matplotlib\", \"sortby\": \"Values ASC\", \"valueFields\": \"count\", \"nostore_cw\": \"1098\", \"nostore_vh\": \"912\", \"org_params\": \"nostore_pixiedust\", \"nostore_bokeh\": \"false\", \"prefix\": \"c9fc6944\"}, \"sniffers\": [\"{'nostore_bokeh':!!window.Bokeh}\"], \"avoidMetadata\": true, \"include_keys\": [\"filter\"]},\n",
       "                    {'targetDivId': 'wrapperHTMLc9fc6944' }\n",
       "                );\n",
       "            }\n",
       "            )\n",
       "            </script>\n",
       "        \n",
       "                </li>\n",
       "              \n",
       "                <li id=\"menuc9fc6944-stashCloudant\">\n",
       "                  \n",
       "                  <i class=\"fa fa-cloud\"></i>\n",
       "                  \n",
       "                  <span>Stash to Cloudant</span>\n",
       "                  \n",
       "            <script>\n",
       "                $('#menuc9fc6944-stashCloudant').on('click', \n",
       "            \n",
       "            function(){\n",
       "                pixiedust.executeDisplay(\n",
       "                    {\"prefix\": \"c9fc6944\", \"command\": \"display(counts,cell_id='fbac8f426e9f4f5886eb323bf1127193',nostore_pixiedust='true',handlerId='stashCloudant',keyFields='class',legend='true',mpld3='false',orientation='horizontal',rendererId='matplotlib',sortby='Values ASC',valueFields='count',nostore_cw='1098',nostore_vh='912',org_params='nostore_pixiedust',nostore_bokeh='false',prefix='c9fc6944')\", \"entity\": \"counts\", \"options\": {\"cell_id\": \"fbac8f426e9f4f5886eb323bf1127193\", \"nostore_pixiedust\": \"true\", \"handlerId\": \"stashCloudant\", \"keyFields\": \"class\", \"legend\": \"true\", \"mpld3\": \"false\", \"orientation\": \"horizontal\", \"rendererId\": \"matplotlib\", \"sortby\": \"Values ASC\", \"valueFields\": \"count\", \"nostore_cw\": \"1098\", \"nostore_vh\": \"912\", \"org_params\": \"nostore_pixiedust\", \"nostore_bokeh\": \"false\", \"prefix\": \"c9fc6944\"}, \"sniffers\": [\"{'nostore_bokeh':!!window.Bokeh}\"], \"avoidMetadata\": true, \"include_keys\": [\"filter\"]},\n",
       "                    {'targetDivId': 'wrapperHTMLc9fc6944' }\n",
       "                );\n",
       "            }\n",
       "            )\n",
       "            </script>\n",
       "        \n",
       "                </li>\n",
       "              \n",
       "              </ul>\n",
       "            </div>\n",
       "          </div>\n",
       "        \n",
       "      \n",
       "        <a id=\"filterbuttonc9fc6944\" href=\"#filterc9fc6944\" class=\"btn btn-small btn-default display-type-button\" data-toggle=\"collapse\" title=\"Filter\">\n",
       "          <i class=\"fa fa-filter\" aria-hidden=\"true\"></i>\n",
       "        </a>\n",
       "      </div>\n",
       "      <div id=\"filterc9fc6944\" class=\"collapse no_loading_msg\" style=\"margin-bottom:15px;padding:10px 15px;border: 1px solid #eaeaea;background-color: #fafafa;\">\n",
       "        <div pd_render_onload pd_app=\"pixiedust.display.chart.filter.FilterApp\" class=\"no_loading_msg\">\n",
       "          <script>\n",
       "            $(document).trigger('pd_event', {type:\"pd_load\", targetNode: $(\"#filterc9fc6944\")});\n",
       "          </script>\n",
       "        </div>\n",
       "      </div>\n",
       "    \n",
       "    <div id=\"wrapperJSc9fc6944\"></div>\n",
       "    <div id=\"wrapperHTMLc9fc6944\" class=\"pixiedustWrapperHTML\" pd_init\n",
       "        pixiedust=\"{&quot;prefix&quot;: &quot;c9fc6944&quot;, &quot;command&quot;: &quot;display(counts,cell_id=&apos;fbac8f426e9f4f5886eb323bf1127193&apos;,nostore_pixiedust=&apos;true&apos;,handlerId=&apos;barChart&apos;,keyFields=&apos;class&apos;,legend=&apos;true&apos;,mpld3=&apos;false&apos;,orientation=&apos;horizontal&apos;,rendererId=&apos;matplotlib&apos;,sortby=&apos;Values ASC&apos;,valueFields=&apos;count&apos;,nostore_cw=&apos;1098&apos;,nostore_vh=&apos;912&apos;,org_params=&apos;nostore_pixiedust&apos;,nostore_bokeh=&apos;false&apos;)&quot;, &quot;entity&quot;: &quot;counts&quot;, &quot;options&quot;: {&quot;cell_id&quot;: &quot;fbac8f426e9f4f5886eb323bf1127193&quot;, &quot;nostore_pixiedust&quot;: &quot;true&quot;, &quot;handlerId&quot;: &quot;barChart&quot;, &quot;keyFields&quot;: &quot;class&quot;, &quot;legend&quot;: &quot;true&quot;, &quot;mpld3&quot;: &quot;false&quot;, &quot;orientation&quot;: &quot;horizontal&quot;, &quot;rendererId&quot;: &quot;matplotlib&quot;, &quot;sortby&quot;: &quot;Values ASC&quot;, &quot;valueFields&quot;: &quot;count&quot;, &quot;nostore_cw&quot;: &quot;1098&quot;, &quot;nostore_vh&quot;: &quot;912&quot;, &quot;org_params&quot;: &quot;nostore_pixiedust&quot;, &quot;nostore_bokeh&quot;: &quot;false&quot;}, &quot;sniffers&quot;: [&quot;{&apos;nostore_bokeh&apos;:!!window.Bokeh}&quot;], &quot;avoidMetadata&quot;: false, &quot;include_keys&quot;: [&quot;filter&quot;]}\" style=\"min-height:100px\"></div>\n",
       "  </div>\n",
       "</div>\n",
       "                    <script>\n",
       "                    (\n",
       "            \n",
       "            function(){\n",
       "                pixiedust.executeDisplay(\n",
       "                    {\"prefix\": \"c9fc6944\", \"command\": \"display(counts,cell_id='fbac8f426e9f4f5886eb323bf1127193',nostore_pixiedust='true',handlerId='barChart',keyFields='class',legend='true',mpld3='false',orientation='horizontal',rendererId='matplotlib',sortby='Values ASC',valueFields='count',nostore_cw='1098',nostore_vh='912',org_params='nostore_pixiedust',nostore_bokeh='false',prefix='c9fc6944')\", \"entity\": \"counts\", \"options\": {\"cell_id\": \"fbac8f426e9f4f5886eb323bf1127193\", \"nostore_pixiedust\": \"true\", \"handlerId\": \"barChart\", \"keyFields\": \"class\", \"legend\": \"true\", \"mpld3\": \"false\", \"orientation\": \"horizontal\", \"rendererId\": \"matplotlib\", \"sortby\": \"Values ASC\", \"valueFields\": \"count\", \"nostore_cw\": \"1098\", \"nostore_vh\": \"912\", \"org_params\": \"nostore_pixiedust\", \"nostore_bokeh\": \"false\", \"prefix\": \"c9fc6944\"}, \"sniffers\": [\"{'nostore_bokeh':!!window.Bokeh}\"], \"avoidMetadata\": true, \"include_keys\": [\"filter\"]},\n",
       "                    {'targetDivId': 'wrapperHTMLc9fc6944' }\n",
       "                );\n",
       "            }\n",
       "            )();\n",
       "                    </script>\n",
       "                </div>"
      ],
      "text/plain": [
       "<IPython.core.display.HTML object>"
      ]
     },
     "metadata": {},
     "output_type": "display_data"
    }
   ],
   "source": [
    "import pixiedust\n",
    "from pyspark.sql.functions import col\n",
    "counts = df.groupBy('class').count().orderBy('count')\n",
    "display(counts)"
   ]
  },
  {
   "cell_type": "markdown",
   "metadata": {},
   "source": [
    "This looks nice, but it would be nice if we can aggregate further to obtain some quantitative metrics on the imbalance like, min, max, mean and standard deviation. If we divide max by min we get a measure called minmax ration which tells us something about the relationship between the smallest and largest class. Again, let’s first use SQL for those of you familiar with SQL. Don’t be scared, we’re used nested sub-selects, basically selecting from a result of a SQL query like it was a table. All within on SQL statement.\n"
   ]
  },
  {
   "cell_type": "code",
   "execution_count": 9,
   "metadata": {},
   "outputs": [
    {
     "name": "stdout",
     "output_type": "stream",
     "text": [
      "+----+-----+------------------+------------------+-----------------+\n",
      "| min|  max|              mean|            stddev|      minmaxratio|\n",
      "+----+-----+------------------+------------------+-----------------+\n",
      "|6683|92254|31894.928571428572|21284.893716741157|13.80427951518779|\n",
      "+----+-----+------------------+------------------+-----------------+\n",
      "\n"
     ]
    }
   ],
   "source": [
    "spark.sql('''\n",
    "    select \n",
    "        *,\n",
    "        max/min as minmaxratio -- compute minmaxratio based on previously computed values\n",
    "        from (\n",
    "            select \n",
    "                min(ct) as min, -- compute minimum value of all classes\n",
    "                max(ct) as max, -- compute maximum value of all classes\n",
    "                mean(ct) as mean, -- compute mean between all classes\n",
    "                stddev(ct) as stddev -- compute standard deviation between all classes\n",
    "                from (\n",
    "                    select\n",
    "                        count(*) as ct -- count the number of rows per class and rename it to ct\n",
    "                        from df -- access the temporary query table called df backed by DataFrame df\n",
    "                        group by class -- aggrecate over class\n",
    "                )\n",
    "        )   \n",
    "''').show()"
   ]
  },
  {
   "cell_type": "markdown",
   "metadata": {},
   "source": [
    "The same query can be expressed using the DataFrame API. Again, don’t be scared. It’s just a sequential expression of transformation steps. You now an choose which syntax you like better.\n"
   ]
  },
  {
   "cell_type": "code",
   "execution_count": null,
   "metadata": {},
   "outputs": [],
   "source": [
    "from pyspark.sql.functions import col, min, max, mean, stddev\n",
    "\n",
    "df \\\n",
    "    .groupBy('class') \\\n",
    "    .count() \\\n",
    "    .select([ \n",
    "        min(col(\"count\")).alias('min'), \n",
    "        max(col(\"count\")).alias('max'), \n",
    "        mean(col(\"count\")).alias('mean'), \n",
    "        stddev(col(\"count\")).alias('stddev') \n",
    "    ]) \\\n",
    "    .select([\n",
    "        col('*'),\n",
    "        (col(\"max\") / col(\"min\")).alias('minmaxratio')\n",
    "    ]) \\\n",
    "    .show()\n"
   ]
  },
  {
   "cell_type": "markdown",
   "metadata": {},
   "source": [
    "Now it’s time for you to work on the data set. First, please create a table of all classes with the respective counts, but this time, please order the table by the count number, ascending.\n"
   ]
  },
  {
   "cell_type": "code",
   "execution_count": 12,
   "metadata": {},
   "outputs": [
    {
     "name": "stdout",
     "output_type": "stream",
     "text": [
      "+--------------+--------+\n",
      "|         class|count(1)|\n",
      "+--------------+--------+\n",
      "|      Eat_soup|    6683|\n",
      "|   Liedown_bed|   11446|\n",
      "| Use_telephone|   15225|\n",
      "|Descend_stairs|   15375|\n",
      "|     Comb_hair|   23504|\n",
      "| Sitdown_chair|   25036|\n",
      "| Standup_chair|   25417|\n",
      "|   Brush_teeth|   29829|\n",
      "|      Eat_meat|   31236|\n",
      "|  Climb_stairs|   40258|\n",
      "|    Pour_water|   41673|\n",
      "|   Drink_glass|   42792|\n",
      "|     Getup_bed|   45801|\n",
      "|          Walk|   92254|\n",
      "+--------------+--------+\n",
      "\n"
     ]
    }
   ],
   "source": [
    "spark.sql('select class,count(*) from df group by class order by count(*)').show()"
   ]
  },
  {
   "cell_type": "markdown",
   "metadata": {},
   "source": [
    "Pixiedust is a very sophisticated library. It takes care of sorting as well. Please modify the bar chart so that it gets sorted by the number of elements per class, ascending. Hint: It’s an option available in the UI once rendered using the display() function.\n"
   ]
  },
  {
   "cell_type": "code",
   "execution_count": null,
   "metadata": {},
   "outputs": [],
   "source": [
    "$$$ your code goes here"
   ]
  },
  {
   "cell_type": "markdown",
   "metadata": {},
   "source": [
    "Imbalanced classes can cause pain in machine learning. Therefore let’s rebalance. In the flowing we limit the number of elements per class to the amount of the least represented class. This is called undersampling. Other ways of rebalancing can be found here:\n",
    "\n",
    "[https://machinelearningmastery.com/tactics-to-combat-imbalanced-classes-in-your-machine-learning-dataset/](https://machinelearningmastery.com/tactics-to-combat-imbalanced-classes-in-your-machine-learning-dataset?cm_mmc=Email_Newsletter-_-Developer_Ed%2BTech-_-WW_WW-_-SkillsNetwork-Courses-IBMDeveloperSkillsNetwork-ML0201EN-SkillsNetwork-20647446&cm_mmca1=000026UJ&cm_mmca2=10006555&cm_mmca3=M12345678&cvosrc=email.Newsletter.M12345678&cvo_campaign=000026UJ)\n"
   ]
  },
  {
   "cell_type": "code",
   "execution_count": 14,
   "metadata": {},
   "outputs": [],
   "source": [
    "from pyspark.sql.functions import min\n",
    "\n",
    "# create a lot of distinct classes from the dataset\n",
    "classes = [row[0] for row in df.select('class').distinct().collect()]\n",
    "\n",
    "# compute the number of elements of the smallest class in order to limit the number of samples per calss\n",
    "min = df.groupBy('class').count().select(min('count')).first()[0]\n",
    "\n",
    "# define the result dataframe variable\n",
    "df_balanced = None\n",
    "\n",
    "# iterate over distinct classes\n",
    "for cls in classes:\n",
    "    \n",
    "    # only select examples for the specific class within this iteration\n",
    "    # shuffle the order of the elements (by setting fraction to 1.0 sample works like shuffle)\n",
    "    # return only the first n samples\n",
    "    df_temp = df \\\n",
    "        .filter(\"class = '\"+cls+\"'\") \\\n",
    "        .sample(False, 1.0) \\\n",
    "        .limit(min)\n",
    "    \n",
    "    # on first iteration, assing df_temp to empty df_balanced\n",
    "    if df_balanced == None:    \n",
    "        df_balanced = df_temp\n",
    "    # afterwards, append vertically\n",
    "    else:\n",
    "        df_balanced=df_balanced.union(df_temp)"
   ]
  },
  {
   "cell_type": "markdown",
   "metadata": {},
   "source": [
    "Please verify, by using the code cell below, if df_balanced has the same number of elements per class. You should get 6683 elements per class.\n"
   ]
  },
  {
   "cell_type": "code",
   "execution_count": 17,
   "metadata": {},
   "outputs": [
    {
     "name": "stdout",
     "output_type": "stream",
     "text": [
      "+--------------+-----+\n",
      "|         class|count|\n",
      "+--------------+-----+\n",
      "| Use_telephone| 6683|\n",
      "| Standup_chair| 6683|\n",
      "|      Eat_meat| 6683|\n",
      "|     Getup_bed| 6683|\n",
      "|   Drink_glass| 6683|\n",
      "|    Pour_water| 6683|\n",
      "|     Comb_hair| 6683|\n",
      "|          Walk| 6683|\n",
      "|  Climb_stairs| 6683|\n",
      "| Sitdown_chair| 6683|\n",
      "|   Liedown_bed| 6683|\n",
      "|Descend_stairs| 6683|\n",
      "|   Brush_teeth| 6683|\n",
      "|      Eat_soup| 6683|\n",
      "+--------------+-----+\n",
      "\n"
     ]
    }
   ],
   "source": [
    "df_balanced.groupBy('class').count().show()"
   ]
  },
  {
   "cell_type": "markdown",
   "metadata": {
    "button": false,
    "new_sheet": false,
    "run_control": {
     "read_only": false
    }
   },
   "source": [
    "### Thank you for completing this lab!\n",
    "\n",
    "This notebook was created by <a href=\"https://linkedin.com/in/romeo-kienzler-089b4557\"> Romeo Kienzler </a>  I hope you found this lab interesting and educational. Feel free to contact me if you have any questions!\n"
   ]
  },
  {
   "cell_type": "markdown",
   "metadata": {},
   "source": [
    "## Change Log\n",
    "\n",
    "| Date (YYYY-MM-DD) | Version | Changed By | Change Description                                          |\n",
    "| ----------------- | ------- | ---------- | ----------------------------------------------------------- |\n",
    "| 2020-09-29        | 2.0     | Srishti    | Migrated Lab to Markdown and added to course repo in GitLab |\n",
    "\n",
    "<hr>\n",
    "\n",
    "## <h3 align=\"center\"> © IBM Corporation 2020. All rights reserved. <h3/>\n"
   ]
  }
 ],
 "metadata": {
  "kernelspec": {
   "display_name": "Python 3",
   "language": "python",
   "name": "python3"
  },
  "language_info": {
   "codemirror_mode": {
    "name": "ipython",
    "version": 3
   },
   "file_extension": ".py",
   "mimetype": "text/x-python",
   "name": "python",
   "nbconvert_exporter": "python",
   "pygments_lexer": "ipython3",
   "version": "3.8.3"
  }
 },
 "nbformat": 4,
 "nbformat_minor": 1
}
